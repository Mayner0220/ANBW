{
 "cells": [
  {
   "cell_type": "markdown",
   "id": "fa6cb662",
   "metadata": {},
   "source": [
    "# DenseNet121 - 32x32"
   ]
  },
  {
   "cell_type": "markdown",
   "id": "83337d05",
   "metadata": {},
   "source": [
    "### Setup"
   ]
  },
  {
   "cell_type": "code",
   "execution_count": 1,
   "id": "98ea3da4",
   "metadata": {
    "ExecuteTime": {
     "end_time": "2021-08-22T11:09:40.921475Z",
     "start_time": "2021-08-22T11:09:40.910615Z"
    }
   },
   "outputs": [],
   "source": [
    "import os\n",
    "os.environ['TF_CPP_MIN_LOG_LEVEL'] = \"3\""
   ]
  },
  {
   "cell_type": "code",
   "execution_count": 2,
   "id": "8b3965d3",
   "metadata": {
    "ExecuteTime": {
     "end_time": "2021-08-22T11:09:47.481419Z",
     "start_time": "2021-08-22T11:09:44.995698Z"
    }
   },
   "outputs": [],
   "source": [
    "import gc\n",
    "import cv2\n",
    "import numpy as np\n",
    "import pandas as pd\n",
    "import tensorflow as tf\n",
    "import matplotlib.pyplot as plt\n",
    "%matplotlib inline\n",
    "\n",
    "from sklearn.model_selection import train_test_split"
   ]
  },
  {
   "cell_type": "code",
   "execution_count": 3,
   "id": "64851ea7",
   "metadata": {
    "ExecuteTime": {
     "end_time": "2021-08-22T11:09:47.587356Z",
     "start_time": "2021-08-22T11:09:47.513357Z"
    }
   },
   "outputs": [
    {
     "name": "stdout",
     "output_type": "stream",
     "text": [
      "CUDA avilable: True\n"
     ]
    }
   ],
   "source": [
    "print(\"CUDA avilable:\",\n",
    "     True if tf.config.list_physical_devices(\"GPU\") else False)"
   ]
  },
  {
   "cell_type": "code",
   "execution_count": 4,
   "id": "78045411",
   "metadata": {
    "ExecuteTime": {
     "end_time": "2021-08-22T11:09:54.371859Z",
     "start_time": "2021-08-22T11:09:54.360055Z"
    }
   },
   "outputs": [],
   "source": [
    "SEED = 1234\n",
    "np.random.seed(SEED)\n",
    "tf.random.set_seed(SEED)"
   ]
  },
  {
   "cell_type": "markdown",
   "id": "eeb977cd",
   "metadata": {},
   "source": [
    "### Preprocessing"
   ]
  },
  {
   "cell_type": "code",
   "execution_count": 5,
   "id": "d8f85c54",
   "metadata": {
    "ExecuteTime": {
     "end_time": "2021-08-22T11:10:15.176041Z",
     "start_time": "2021-08-22T11:10:13.820337Z"
    }
   },
   "outputs": [],
   "source": [
    "PATH = \"C:/Users/shj03/Desktop/git_files/ANBW/dataset\"\n",
    "train = pd.read_csv(f\"{PATH}/train.csv\")\n",
    "test = pd.read_csv(f\"{PATH}/test.csv\")\n",
    "submission = pd.read_csv(f\"{PATH}/submission.csv\")"
   ]
  },
  {
   "cell_type": "code",
   "execution_count": null,
   "id": "72566e49",
   "metadata": {},
   "outputs": [],
   "source": [
    "x_train = train.drop([\"id\", \"digit\", \"letter\"], axis=1).values\n",
    "x_train = x_train.reshape(-1, 28, 28, 1)\n",
    "x_train = np.where((x_train<=20)&(x_train!=0) ,0.,x_train)\n",
    "x_train = x_train/255\n",
    "x_train = x_train.astype(\"float32\")\n",
    "x_train_resized = np.zeros([2048, 32, 32, 3], dtype=np.float32)\n",
    "\n",
    "for idx, img in enumerate(x_train):\n",
    "    converted = cv2.cvtColor(img, cv2.COLOR_GRAY2RGB)\n",
    "    resized = cv2.resize(converted, (32, 32), interpolation=cv2.INTER_CUBIC)\n",
    "    del "
   ]
  }
 ],
 "metadata": {
  "kernelspec": {
   "display_name": "Python 3 (ipykernel)",
   "language": "python",
   "name": "python3"
  },
  "language_info": {
   "codemirror_mode": {
    "name": "ipython",
    "version": 3
   },
   "file_extension": ".py",
   "mimetype": "text/x-python",
   "name": "python",
   "nbconvert_exporter": "python",
   "pygments_lexer": "ipython3",
   "version": "3.7.0"
  },
  "varInspector": {
   "cols": {
    "lenName": 16,
    "lenType": 16,
    "lenVar": 40
   },
   "kernels_config": {
    "python": {
     "delete_cmd_postfix": "",
     "delete_cmd_prefix": "del ",
     "library": "var_list.py",
     "varRefreshCmd": "print(var_dic_list())"
    },
    "r": {
     "delete_cmd_postfix": ") ",
     "delete_cmd_prefix": "rm(",
     "library": "var_list.r",
     "varRefreshCmd": "cat(var_dic_list()) "
    }
   },
   "types_to_exclude": [
    "module",
    "function",
    "builtin_function_or_method",
    "instance",
    "_Feature"
   ],
   "window_display": false
  }
 },
 "nbformat": 4,
 "nbformat_minor": 5
}
