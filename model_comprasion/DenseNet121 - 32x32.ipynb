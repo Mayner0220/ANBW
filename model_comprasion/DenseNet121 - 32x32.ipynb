{
 "cells": [
  {
   "cell_type": "markdown",
   "id": "d77fa0d3",
   "metadata": {},
   "source": [
    "# DenseNet121 - 32x32"
   ]
  },
  {
   "cell_type": "markdown",
   "id": "6cd036e1",
   "metadata": {},
   "source": [
    "### Setup"
   ]
  },
  {
   "cell_type": "code",
   "execution_count": 1,
   "id": "d5a28342",
   "metadata": {
    "ExecuteTime": {
     "end_time": "2021-08-22T12:31:53.204411Z",
     "start_time": "2021-08-22T12:31:53.192419Z"
    }
   },
   "outputs": [],
   "source": [
    "import os\n",
    "os.environ['TF_CPP_MIN_LOG_LEVEL'] = \"3\""
   ]
  },
  {
   "cell_type": "code",
   "execution_count": 2,
   "id": "7b54401a",
   "metadata": {
    "ExecuteTime": {
     "end_time": "2021-08-22T12:31:56.466739Z",
     "start_time": "2021-08-22T12:31:53.206375Z"
    }
   },
   "outputs": [],
   "source": [
    "import gc\n",
    "import cv2\n",
    "import numpy as np\n",
    "import pandas as pd\n",
    "import tensorflow as tf\n",
    "import matplotlib.pyplot as plt\n",
    "%matplotlib inline\n",
    "\n",
    "from sklearn.model_selection import train_test_split"
   ]
  },
  {
   "cell_type": "code",
   "execution_count": 3,
   "id": "b0321453",
   "metadata": {
    "ExecuteTime": {
     "end_time": "2021-08-22T12:31:56.541719Z",
     "start_time": "2021-08-22T12:31:56.468697Z"
    }
   },
   "outputs": [
    {
     "name": "stdout",
     "output_type": "stream",
     "text": [
      "CUDA avilable: True\n"
     ]
    }
   ],
   "source": [
    "print(\"CUDA avilable:\",\n",
    "     True if tf.config.list_physical_devices(\"GPU\") else False)"
   ]
  },
  {
   "cell_type": "code",
   "execution_count": 4,
   "id": "0a6f6799",
   "metadata": {
    "ExecuteTime": {
     "end_time": "2021-08-22T12:31:56.556690Z",
     "start_time": "2021-08-22T12:31:56.543656Z"
    }
   },
   "outputs": [],
   "source": [
    "SEED = 1234\n",
    "np.random.seed(SEED)\n",
    "tf.random.set_seed(SEED)"
   ]
  },
  {
   "cell_type": "markdown",
   "id": "461245c8",
   "metadata": {},
   "source": [
    "### Preprocessing"
   ]
  },
  {
   "cell_type": "code",
   "execution_count": 5,
   "id": "c907b136",
   "metadata": {
    "ExecuteTime": {
     "end_time": "2021-08-22T12:31:57.858811Z",
     "start_time": "2021-08-22T12:31:56.557655Z"
    }
   },
   "outputs": [],
   "source": [
    "PATH = \"C:/Users/shj03/Desktop/git_files/ANBW/dataset\"\n",
    "train = pd.read_csv(f\"{PATH}/train.csv\")\n",
    "test = pd.read_csv(f\"{PATH}/test.csv\")\n",
    "submission = pd.read_csv(f\"{PATH}/submission.csv\")"
   ]
  },
  {
   "cell_type": "code",
   "execution_count": 6,
   "id": "a51c9689",
   "metadata": {
    "ExecuteTime": {
     "end_time": "2021-08-22T12:33:27.470318Z",
     "start_time": "2021-08-22T12:31:57.858811Z"
    }
   },
   "outputs": [
    {
     "data": {
      "text/plain": [
       "(2048, 32, 32, 3)"
      ]
     },
     "execution_count": 6,
     "metadata": {},
     "output_type": "execute_result"
    }
   ],
   "source": [
    "x_train = train.drop([\"id\", \"digit\", \"letter\"], axis=1).values\n",
    "x_train = x_train.reshape(-1, 28, 28, 1)\n",
    "x_train = np.where((x_train<=20)&(x_train!=0) ,0.,x_train)\n",
    "x_train = x_train/255\n",
    "x_train = x_train.astype(\"float32\")\n",
    "x_train_resized = np.zeros([2048, 32, 32, 3], dtype=np.float32)\n",
    "\n",
    "for idx, img in enumerate(x_train):\n",
    "    converted = cv2.cvtColor(img, cv2.COLOR_GRAY2RGB)\n",
    "    resized = cv2.resize(converted, (32, 32), interpolation=cv2.INTER_CUBIC)\n",
    "    del converted\n",
    "    x_train_resized[idx] = resized\n",
    "    del resized\n",
    "    gc.collect()\n",
    "\n",
    "x_train_resized.shape"
   ]
  },
  {
   "cell_type": "code",
   "execution_count": 7,
   "id": "d88f0f1b",
   "metadata": {
    "ExecuteTime": {
     "end_time": "2021-08-22T12:33:27.485204Z",
     "start_time": "2021-08-22T12:33:27.471198Z"
    }
   },
   "outputs": [
    {
     "data": {
      "text/plain": [
       "(2048, 10)"
      ]
     },
     "execution_count": 7,
     "metadata": {},
     "output_type": "execute_result"
    }
   ],
   "source": [
    "y = train[\"digit\"]\n",
    "y_train = np.zeros((len(y), len(y.unique())))\n",
    "\n",
    "for idx, digit in enumerate(y):\n",
    "    y_train[idx, digit] = 1\n",
    "\n",
    "y_train.shape"
   ]
  },
  {
   "cell_type": "code",
   "execution_count": 8,
   "id": "175512bc",
   "metadata": {
    "ExecuteTime": {
     "end_time": "2021-08-22T12:33:27.515249Z",
     "start_time": "2021-08-22T12:33:27.488200Z"
    }
   },
   "outputs": [],
   "source": [
    "x_train, x_valid, y_train, y_valid = train_test_split(x_train_resized, y_train, test_size=0.2, random_state=SEED, shuffle=True)"
   ]
  },
  {
   "cell_type": "markdown",
   "id": "ca3e4b68",
   "metadata": {},
   "source": [
    "### Initialing model"
   ]
  },
  {
   "cell_type": "code",
   "execution_count": 9,
   "id": "2886b32c",
   "metadata": {
    "ExecuteTime": {
     "end_time": "2021-08-22T12:33:27.530775Z",
     "start_time": "2021-08-22T12:33:27.519049Z"
    }
   },
   "outputs": [],
   "source": [
    "from tensorflow.keras.callbacks import EarlyStopping"
   ]
  },
  {
   "cell_type": "code",
   "execution_count": 10,
   "id": "f29685e8",
   "metadata": {
    "ExecuteTime": {
     "end_time": "2021-08-22T12:33:27.545812Z",
     "start_time": "2021-08-22T12:33:27.532777Z"
    }
   },
   "outputs": [],
   "source": [
    "BATCH = 32\n",
    "EPOCHS = 100\n",
    "CALLBACKS = [EarlyStopping(monitor=\"val_loss\", verbose=1, patience=20)]"
   ]
  },
  {
   "cell_type": "code",
   "execution_count": 11,
   "id": "984e02ed",
   "metadata": {
    "ExecuteTime": {
     "end_time": "2021-08-22T12:33:30.670414Z",
     "start_time": "2021-08-22T12:33:27.547773Z"
    }
   },
   "outputs": [],
   "source": [
    "densenet = tf.keras.applications.densenet.DenseNet121(\n",
    "    weights=None,\n",
    "    input_shape=(32, 32, 3),\n",
    "    classes=10,\n",
    ")"
   ]
  },
  {
   "cell_type": "code",
   "execution_count": 12,
   "id": "382318ca",
   "metadata": {
    "ExecuteTime": {
     "end_time": "2021-08-22T12:33:32.045848Z",
     "start_time": "2021-08-22T12:33:30.671331Z"
    }
   },
   "outputs": [],
   "source": [
    "model = tf.keras.Sequential()\n",
    "model.add(densenet)\n",
    "\n",
    "model.compile(loss=\"categorical_crossentropy\",\n",
    "             optimizer=\"Adam\",\n",
    "             metrics=[\"accuracy\"])"
   ]
  },
  {
   "cell_type": "code",
   "execution_count": 13,
   "id": "edc2da38",
   "metadata": {
    "ExecuteTime": {
     "end_time": "2021-08-22T12:33:32.076066Z",
     "start_time": "2021-08-22T12:33:32.045848Z"
    }
   },
   "outputs": [
    {
     "name": "stdout",
     "output_type": "stream",
     "text": [
      "Model: \"sequential\"\n",
      "_________________________________________________________________\n",
      "Layer (type)                 Output Shape              Param #   \n",
      "=================================================================\n",
      "densenet121 (Functional)     (None, 10)                7047754   \n",
      "=================================================================\n",
      "Total params: 7,047,754\n",
      "Trainable params: 6,964,106\n",
      "Non-trainable params: 83,648\n",
      "_________________________________________________________________\n"
     ]
    }
   ],
   "source": [
    "model.summary()"
   ]
  },
  {
   "cell_type": "markdown",
   "id": "5e4e7fbb",
   "metadata": {},
   "source": [
    "### Train model"
   ]
  },
  {
   "cell_type": "code",
   "execution_count": 14,
   "id": "38d1faf2",
   "metadata": {
    "ExecuteTime": {
     "end_time": "2021-08-22T12:35:48.253845Z",
     "start_time": "2021-08-22T12:33:32.077548Z"
    }
   },
   "outputs": [
    {
     "name": "stdout",
     "output_type": "stream",
     "text": [
      "Epoch 1/100\n",
      "52/52 [==============================] - 8s 154ms/step - loss: 2.2111 - accuracy: 0.2515 - val_loss: 2.3702 - val_accuracy: 0.0854\n",
      "Epoch 2/100\n",
      "52/52 [==============================] - 3s 53ms/step - loss: 1.7151 - accuracy: 0.3962 - val_loss: 2.9553 - val_accuracy: 0.0854\n",
      "Epoch 3/100\n",
      "52/52 [==============================] - 3s 53ms/step - loss: 1.4599 - accuracy: 0.4896 - val_loss: 2.8887 - val_accuracy: 0.0854\n",
      "Epoch 4/100\n",
      "52/52 [==============================] - 3s 53ms/step - loss: 1.1753 - accuracy: 0.5922 - val_loss: 2.9502 - val_accuracy: 0.0854\n",
      "Epoch 5/100\n",
      "52/52 [==============================] - 3s 53ms/step - loss: 0.9408 - accuracy: 0.6630 - val_loss: 5.3560 - val_accuracy: 0.0854\n",
      "Epoch 6/100\n",
      "52/52 [==============================] - 3s 53ms/step - loss: 0.8354 - accuracy: 0.7015 - val_loss: 4.9703 - val_accuracy: 0.0854\n",
      "Epoch 7/100\n",
      "52/52 [==============================] - 3s 55ms/step - loss: 0.6403 - accuracy: 0.7698 - val_loss: 4.0884 - val_accuracy: 0.0927\n",
      "Epoch 8/100\n",
      "52/52 [==============================] - 3s 54ms/step - loss: 0.5367 - accuracy: 0.8132 - val_loss: 3.7883 - val_accuracy: 0.1512\n",
      "Epoch 9/100\n",
      "52/52 [==============================] - 3s 54ms/step - loss: 0.4429 - accuracy: 0.8394 - val_loss: 2.6639 - val_accuracy: 0.3756\n",
      "Epoch 10/100\n",
      "52/52 [==============================] - 3s 53ms/step - loss: 0.2740 - accuracy: 0.9084 - val_loss: 3.4256 - val_accuracy: 0.3488\n",
      "Epoch 11/100\n",
      "52/52 [==============================] - 3s 54ms/step - loss: 0.2704 - accuracy: 0.9042 - val_loss: 3.2770 - val_accuracy: 0.3878\n",
      "Epoch 12/100\n",
      "52/52 [==============================] - 3s 53ms/step - loss: 0.4339 - accuracy: 0.8523 - val_loss: 2.9392 - val_accuracy: 0.4244\n",
      "Epoch 13/100\n",
      "52/52 [==============================] - 3s 53ms/step - loss: 0.2619 - accuracy: 0.9145 - val_loss: 2.6749 - val_accuracy: 0.4707\n",
      "Epoch 14/100\n",
      "52/52 [==============================] - 3s 53ms/step - loss: 0.3677 - accuracy: 0.8779 - val_loss: 2.3455 - val_accuracy: 0.4878\n",
      "Epoch 15/100\n",
      "52/52 [==============================] - 3s 53ms/step - loss: 0.1418 - accuracy: 0.9469 - val_loss: 2.7711 - val_accuracy: 0.4878\n",
      "Epoch 16/100\n",
      "52/52 [==============================] - 3s 54ms/step - loss: 0.1161 - accuracy: 0.9646 - val_loss: 1.9685 - val_accuracy: 0.5561\n",
      "Epoch 17/100\n",
      "52/52 [==============================] - 3s 54ms/step - loss: 0.1493 - accuracy: 0.9499 - val_loss: 3.0513 - val_accuracy: 0.4488\n",
      "Epoch 18/100\n",
      "52/52 [==============================] - 3s 54ms/step - loss: 0.2444 - accuracy: 0.9164 - val_loss: 4.2319 - val_accuracy: 0.3659\n",
      "Epoch 19/100\n",
      "52/52 [==============================] - 3s 53ms/step - loss: 0.3578 - accuracy: 0.8901 - val_loss: 3.1215 - val_accuracy: 0.4683\n",
      "Epoch 20/100\n",
      "52/52 [==============================] - 3s 54ms/step - loss: 0.1520 - accuracy: 0.9487 - val_loss: 3.2064 - val_accuracy: 0.4415\n",
      "Epoch 21/100\n",
      "52/52 [==============================] - 3s 54ms/step - loss: 0.1406 - accuracy: 0.9548 - val_loss: 1.8244 - val_accuracy: 0.6171\n",
      "Epoch 22/100\n",
      "52/52 [==============================] - 3s 54ms/step - loss: 0.0474 - accuracy: 0.9841 - val_loss: 1.6580 - val_accuracy: 0.6171\n",
      "Epoch 23/100\n",
      "52/52 [==============================] - 3s 54ms/step - loss: 0.0302 - accuracy: 0.9933 - val_loss: 1.8343 - val_accuracy: 0.6098\n",
      "Epoch 24/100\n",
      "52/52 [==============================] - 3s 54ms/step - loss: 0.0285 - accuracy: 0.9933 - val_loss: 1.8037 - val_accuracy: 0.6073\n",
      "Epoch 25/100\n",
      "52/52 [==============================] - 3s 53ms/step - loss: 0.0782 - accuracy: 0.9731 - val_loss: 1.9238 - val_accuracy: 0.5805\n",
      "Epoch 26/100\n",
      "52/52 [==============================] - 3s 54ms/step - loss: 0.3412 - accuracy: 0.8950 - val_loss: 3.3888 - val_accuracy: 0.4756\n",
      "Epoch 27/100\n",
      "52/52 [==============================] - 3s 54ms/step - loss: 0.3406 - accuracy: 0.8889 - val_loss: 2.8382 - val_accuracy: 0.4610\n",
      "Epoch 28/100\n",
      "52/52 [==============================] - 3s 54ms/step - loss: 0.2039 - accuracy: 0.9280 - val_loss: 2.6480 - val_accuracy: 0.5293\n",
      "Epoch 29/100\n",
      "52/52 [==============================] - 3s 54ms/step - loss: 0.1687 - accuracy: 0.9420 - val_loss: 2.6668 - val_accuracy: 0.5390\n",
      "Epoch 30/100\n",
      "52/52 [==============================] - 3s 54ms/step - loss: 0.0598 - accuracy: 0.9805 - val_loss: 1.8913 - val_accuracy: 0.5878\n",
      "Epoch 31/100\n",
      "52/52 [==============================] - 3s 54ms/step - loss: 0.1282 - accuracy: 0.9597 - val_loss: 2.2157 - val_accuracy: 0.5585\n",
      "Epoch 32/100\n",
      "52/52 [==============================] - 3s 54ms/step - loss: 0.0539 - accuracy: 0.9829 - val_loss: 1.8902 - val_accuracy: 0.6317\n",
      "Epoch 33/100\n",
      "52/52 [==============================] - 3s 54ms/step - loss: 0.0760 - accuracy: 0.9817 - val_loss: 1.8553 - val_accuracy: 0.5976\n",
      "Epoch 34/100\n",
      "52/52 [==============================] - 3s 54ms/step - loss: 0.3204 - accuracy: 0.8968 - val_loss: 5.0441 - val_accuracy: 0.3244\n",
      "Epoch 35/100\n",
      "52/52 [==============================] - 3s 55ms/step - loss: 0.2159 - accuracy: 0.9328 - val_loss: 2.6182 - val_accuracy: 0.5098\n",
      "Epoch 36/100\n",
      "52/52 [==============================] - 3s 54ms/step - loss: 0.0612 - accuracy: 0.9829 - val_loss: 1.9078 - val_accuracy: 0.6000\n",
      "Epoch 37/100\n",
      "52/52 [==============================] - 3s 54ms/step - loss: 0.0838 - accuracy: 0.9725 - val_loss: 1.9176 - val_accuracy: 0.6000\n",
      "Epoch 38/100\n",
      "52/52 [==============================] - 3s 54ms/step - loss: 0.0420 - accuracy: 0.9853 - val_loss: 2.0662 - val_accuracy: 0.5927\n",
      "Epoch 39/100\n",
      "52/52 [==============================] - 3s 53ms/step - loss: 0.0350 - accuracy: 0.9884 - val_loss: 2.1105 - val_accuracy: 0.5976\n",
      "Epoch 40/100\n",
      "52/52 [==============================] - 3s 54ms/step - loss: 0.0993 - accuracy: 0.9737 - val_loss: 2.1299 - val_accuracy: 0.5220\n",
      "Epoch 41/100\n",
      "52/52 [==============================] - 3s 53ms/step - loss: 0.0630 - accuracy: 0.9823 - val_loss: 1.7453 - val_accuracy: 0.6268\n",
      "Epoch 42/100\n",
      "52/52 [==============================] - 3s 54ms/step - loss: 0.0832 - accuracy: 0.9713 - val_loss: 2.4717 - val_accuracy: 0.5829\n",
      "Epoch 00042: early stopping\n"
     ]
    }
   ],
   "source": [
    "history = model.fit(x_train, y_train, batch_size=BATCH, epochs=EPOCHS, callbacks=CALLBACKS, validation_data=(x_valid, y_valid))"
   ]
  },
  {
   "cell_type": "markdown",
   "id": "ebbd4841",
   "metadata": {},
   "source": [
    "### Predict"
   ]
  },
  {
   "cell_type": "code",
   "execution_count": 16,
   "id": "6d2e9e53",
   "metadata": {
    "ExecuteTime": {
     "end_time": "2021-08-22T13:08:02.766482Z",
     "start_time": "2021-08-22T12:35:48.374800Z"
    }
   },
   "outputs": [
    {
     "data": {
      "text/plain": [
       "(20480, 32, 32, 3)"
      ]
     },
     "execution_count": 16,
     "metadata": {},
     "output_type": "execute_result"
    }
   ],
   "source": [
    "x_test = test.drop([\"id\", \"letter\"], axis=1).values\n",
    "x_test = x_test.reshape(-1, 28, 28, 1)\n",
    "x_test = np.where((x_test<=20)&(x_test!=0), 0., x_test)\n",
    "x_test = x_test/255\n",
    "x_test = x_test.astype(\"float32\")\n",
    "x_test_resized = np.zeros([20480, 32, 32, 3], dtype=np.float32)\n",
    "\n",
    "for idx, img in enumerate(x_test):\n",
    "    converted = cv2.cvtColor(img, cv2.COLOR_GRAY2RGB)\n",
    "    resized = cv2.resize(converted, (32, 32), interpolation=cv2.INTER_CUBIC)\n",
    "    del converted\n",
    "    x_test_resized[idx] = resized\n",
    "    del resized\n",
    "    gc.collect()\n",
    "\n",
    "x_test_resized.shape"
   ]
  },
  {
   "cell_type": "code",
   "execution_count": 23,
   "id": "f8517764",
   "metadata": {
    "ExecuteTime": {
     "end_time": "2021-08-22T13:18:40.179402Z",
     "start_time": "2021-08-22T13:18:31.232981Z"
    }
   },
   "outputs": [
    {
     "data": {
      "text/html": [
       "<div>\n",
       "<style scoped>\n",
       "    .dataframe tbody tr th:only-of-type {\n",
       "        vertical-align: middle;\n",
       "    }\n",
       "\n",
       "    .dataframe tbody tr th {\n",
       "        vertical-align: top;\n",
       "    }\n",
       "\n",
       "    .dataframe thead th {\n",
       "        text-align: right;\n",
       "    }\n",
       "</style>\n",
       "<table border=\"1\" class=\"dataframe\">\n",
       "  <thead>\n",
       "    <tr style=\"text-align: right;\">\n",
       "      <th></th>\n",
       "      <th>id</th>\n",
       "      <th>digit</th>\n",
       "    </tr>\n",
       "  </thead>\n",
       "  <tbody>\n",
       "    <tr>\n",
       "      <th>0</th>\n",
       "      <td>2049</td>\n",
       "      <td>6</td>\n",
       "    </tr>\n",
       "    <tr>\n",
       "      <th>1</th>\n",
       "      <td>2050</td>\n",
       "      <td>8</td>\n",
       "    </tr>\n",
       "    <tr>\n",
       "      <th>2</th>\n",
       "      <td>2051</td>\n",
       "      <td>6</td>\n",
       "    </tr>\n",
       "    <tr>\n",
       "      <th>3</th>\n",
       "      <td>2052</td>\n",
       "      <td>6</td>\n",
       "    </tr>\n",
       "    <tr>\n",
       "      <th>4</th>\n",
       "      <td>2053</td>\n",
       "      <td>3</td>\n",
       "    </tr>\n",
       "  </tbody>\n",
       "</table>\n",
       "</div>"
      ],
      "text/plain": [
       "     id  digit\n",
       "0  2049      6\n",
       "1  2050      8\n",
       "2  2051      6\n",
       "3  2052      6\n",
       "4  2053      3"
      ]
     },
     "execution_count": 23,
     "metadata": {},
     "output_type": "execute_result"
    }
   ],
   "source": [
    "submission['digit'] = np.argmax(model.predict(x_test_resized), axis=1)\n",
    "submission.head()"
   ]
  },
  {
   "cell_type": "code",
   "execution_count": 24,
   "id": "62d7b343",
   "metadata": {
    "ExecuteTime": {
     "end_time": "2021-08-22T13:18:40.540974Z",
     "start_time": "2021-08-22T13:18:40.496974Z"
    }
   },
   "outputs": [],
   "source": [
    "submission.to_csv('DenseNet121-32x32.csv', index=False)"
   ]
  }
 ],
 "metadata": {
  "kernelspec": {
   "display_name": "Python 3 (ipykernel)",
   "language": "python",
   "name": "python3"
  },
  "language_info": {
   "codemirror_mode": {
    "name": "ipython",
    "version": 3
   },
   "file_extension": ".py",
   "mimetype": "text/x-python",
   "name": "python",
   "nbconvert_exporter": "python",
   "pygments_lexer": "ipython3",
   "version": "3.7.0"
  },
  "varInspector": {
   "cols": {
    "lenName": 16,
    "lenType": 16,
    "lenVar": 40
   },
   "kernels_config": {
    "python": {
     "delete_cmd_postfix": "",
     "delete_cmd_prefix": "del ",
     "library": "var_list.py",
     "varRefreshCmd": "print(var_dic_list())"
    },
    "r": {
     "delete_cmd_postfix": ") ",
     "delete_cmd_prefix": "rm(",
     "library": "var_list.r",
     "varRefreshCmd": "cat(var_dic_list()) "
    }
   },
   "types_to_exclude": [
    "module",
    "function",
    "builtin_function_or_method",
    "instance",
    "_Feature"
   ],
   "window_display": false
  }
 },
 "nbformat": 4,
 "nbformat_minor": 5
}
