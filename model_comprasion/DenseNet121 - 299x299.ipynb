{
 "cells": [
  {
   "cell_type": "markdown",
   "id": "b15aeb47",
   "metadata": {},
   "source": [
    "# DenseNet121 - 64x64"
   ]
  },
  {
   "cell_type": "markdown",
   "id": "6d81a3ec",
   "metadata": {},
   "source": [
    "### Setup"
   ]
  },
  {
   "cell_type": "code",
   "execution_count": 1,
   "id": "bef1c034",
   "metadata": {
    "ExecuteTime": {
     "end_time": "2021-08-23T13:30:54.980543Z",
     "start_time": "2021-08-23T13:30:54.967540Z"
    }
   },
   "outputs": [],
   "source": [
    "import os\n",
    "os.environ['TF_CPP_MIN_LOG_LEVEL'] = \"3\""
   ]
  },
  {
   "cell_type": "code",
   "execution_count": 2,
   "id": "2ede5fff",
   "metadata": {
    "ExecuteTime": {
     "end_time": "2021-08-23T13:30:58.611729Z",
     "start_time": "2021-08-23T13:30:54.982544Z"
    }
   },
   "outputs": [],
   "source": [
    "import gc\n",
    "import cv2\n",
    "import numpy as np\n",
    "import pandas as pd\n",
    "import tensorflow as tf\n",
    "import matplotlib.pyplot as plt\n",
    "%matplotlib inline\n",
    "\n",
    "from sklearn.model_selection import train_test_split"
   ]
  },
  {
   "cell_type": "code",
   "execution_count": 3,
   "id": "6c55045d",
   "metadata": {
    "ExecuteTime": {
     "end_time": "2021-08-23T13:30:58.686666Z",
     "start_time": "2021-08-23T13:30:58.613666Z"
    }
   },
   "outputs": [
    {
     "name": "stdout",
     "output_type": "stream",
     "text": [
      "CUDA avilable: True\n"
     ]
    }
   ],
   "source": [
    "print(\"CUDA avilable:\",\n",
    "     True if tf.config.list_physical_devices(\"GPU\") else False)"
   ]
  },
  {
   "cell_type": "code",
   "execution_count": 4,
   "id": "c0fbf065",
   "metadata": {
    "ExecuteTime": {
     "end_time": "2021-08-23T13:30:58.701741Z",
     "start_time": "2021-08-23T13:30:58.688666Z"
    }
   },
   "outputs": [],
   "source": [
    "SEED = 1234\n",
    "np.random.seed(SEED)\n",
    "tf.random.set_seed(SEED)"
   ]
  },
  {
   "cell_type": "code",
   "execution_count": 5,
   "id": "7c964f5c",
   "metadata": {
    "ExecuteTime": {
     "end_time": "2021-08-23T13:30:58.716741Z",
     "start_time": "2021-08-23T13:30:58.702667Z"
    }
   },
   "outputs": [],
   "source": [
    "input_shape = 64"
   ]
  },
  {
   "cell_type": "markdown",
   "id": "b1be4aa0",
   "metadata": {},
   "source": [
    "### Preprocessing"
   ]
  },
  {
   "cell_type": "code",
   "execution_count": 6,
   "id": "22dc6587",
   "metadata": {
    "ExecuteTime": {
     "end_time": "2021-08-23T13:31:00.007249Z",
     "start_time": "2021-08-23T13:30:58.717668Z"
    }
   },
   "outputs": [],
   "source": [
    "PATH = \"C:/Users/shj03/Desktop/git_files/ANBW/dataset\"\n",
    "train = pd.read_csv(f\"{PATH}/train.csv\")\n",
    "test = pd.read_csv(f\"{PATH}/test.csv\")\n",
    "submission = pd.read_csv(f\"{PATH}/submission.csv\")"
   ]
  },
  {
   "cell_type": "code",
   "execution_count": null,
   "id": "dd028485",
   "metadata": {
    "ExecuteTime": {
     "start_time": "2021-08-23T13:30:54.955Z"
    }
   },
   "outputs": [],
   "source": [
    "x_train = train.drop([\"id\", \"digit\", \"letter\"], axis=1).values\n",
    "x_train = x_train.reshape(-1, 28, 28, 1)\n",
    "x_train = np.where((x_train<=20)&(x_train!=0) ,0.,x_train)\n",
    "x_train = x_train/255\n",
    "x_train = x_train.astype(\"float32\")\n",
    "x_train_resized = np.zeros([2048, input_shape, input_shape, 3], dtype=np.float32)\n",
    "\n",
    "for idx, img in enumerate(x_train):\n",
    "    converted = cv2.cvtColor(img, cv2.COLOR_GRAY2RGB)\n",
    "    resized = cv2.resize(converted, (input_shape, input_shape), interpolation=cv2.INTER_CUBIC)\n",
    "    del converted\n",
    "    x_train_resized[idx] = resized\n",
    "    del resized\n",
    "    gc.collect()\n",
    "\n",
    "x_train_resized.shape"
   ]
  },
  {
   "cell_type": "code",
   "execution_count": null,
   "id": "31cd520d",
   "metadata": {
    "ExecuteTime": {
     "start_time": "2021-08-23T13:30:54.956Z"
    }
   },
   "outputs": [],
   "source": [
    "y = train[\"digit\"]\n",
    "y_train = np.zeros((len(y), len(y.unique())))\n",
    "\n",
    "for idx, digit in enumerate(y):\n",
    "    y_train[idx, digit] = 1\n",
    "\n",
    "y_train.shape"
   ]
  },
  {
   "cell_type": "code",
   "execution_count": null,
   "id": "4d8c9c15",
   "metadata": {
    "ExecuteTime": {
     "start_time": "2021-08-23T13:30:54.957Z"
    }
   },
   "outputs": [],
   "source": [
    "x_train, x_valid, y_train, y_valid = train_test_split(x_train_resized, y_train, test_size=0.2, random_state=SEED, shuffle=True)"
   ]
  },
  {
   "cell_type": "markdown",
   "id": "52ed1858",
   "metadata": {},
   "source": [
    "### Initialing model"
   ]
  },
  {
   "cell_type": "code",
   "execution_count": null,
   "id": "a3e8232a",
   "metadata": {
    "ExecuteTime": {
     "start_time": "2021-08-23T13:30:54.958Z"
    }
   },
   "outputs": [],
   "source": [
    "from tensorflow.keras.callbacks import EarlyStopping"
   ]
  },
  {
   "cell_type": "code",
   "execution_count": null,
   "id": "56ae2b04",
   "metadata": {
    "ExecuteTime": {
     "start_time": "2021-08-23T13:30:54.958Z"
    }
   },
   "outputs": [],
   "source": [
    "BATCH = 32\n",
    "EPOCHS = 100\n",
    "CALLBACKS = [EarlyStopping(monitor=\"val_loss\", verbose=1, patience=20)]"
   ]
  },
  {
   "cell_type": "code",
   "execution_count": null,
   "id": "51f3c1ef",
   "metadata": {
    "ExecuteTime": {
     "start_time": "2021-08-23T13:30:54.959Z"
    }
   },
   "outputs": [],
   "source": [
    "densenet = tf.keras.applications.densenet.DenseNet121(\n",
    "    weights=None,\n",
    "    input_shape=(64, 64, 3),\n",
    "    classes=10,\n",
    ")"
   ]
  },
  {
   "cell_type": "code",
   "execution_count": null,
   "id": "8c59e507",
   "metadata": {
    "ExecuteTime": {
     "start_time": "2021-08-23T13:30:54.960Z"
    }
   },
   "outputs": [],
   "source": [
    "model = tf.keras.Sequential()\n",
    "model.add(densenet)\n",
    "\n",
    "model.compile(loss=\"categorical_crossentropy\",\n",
    "             optimizer=\"Adam\",\n",
    "             metrics=[\"accuracy\"])"
   ]
  },
  {
   "cell_type": "code",
   "execution_count": null,
   "id": "b6f02d68",
   "metadata": {
    "ExecuteTime": {
     "start_time": "2021-08-23T13:30:54.961Z"
    }
   },
   "outputs": [],
   "source": [
    "model.summary()"
   ]
  },
  {
   "cell_type": "markdown",
   "id": "e40cf66b",
   "metadata": {},
   "source": [
    "### Train model"
   ]
  },
  {
   "cell_type": "code",
   "execution_count": null,
   "id": "d2c74fd5",
   "metadata": {
    "ExecuteTime": {
     "start_time": "2021-08-23T13:30:54.962Z"
    }
   },
   "outputs": [],
   "source": [
    "history = model.fit(x_train, y_train, batch_size=BATCH, epochs=EPOCHS, callbacks=CALLBACKS, validation_data=(x_valid, y_valid))"
   ]
  },
  {
   "cell_type": "markdown",
   "id": "bd3e8fe6",
   "metadata": {},
   "source": [
    "### Predict"
   ]
  },
  {
   "cell_type": "code",
   "execution_count": null,
   "id": "6c6992a1",
   "metadata": {
    "ExecuteTime": {
     "start_time": "2021-08-23T13:30:54.963Z"
    }
   },
   "outputs": [],
   "source": [
    "x_test = test.drop([\"id\", \"letter\"], axis=1).values\n",
    "x_test = x_test.reshape(-1, 28, 28, 1)\n",
    "x_test = np.where((x_test<=20)&(x_test!=0), 0., x_test)\n",
    "x_test = x_test/255\n",
    "x_test = x_test.astype(\"float32\")\n",
    "x_test_resized = np.zeros([20480, input_shape, input_shape, 3], dtype=np.float32)\n",
    "\n",
    "for idx, img in enumerate(x_test):\n",
    "    converted = cv2.cvtColor(img, cv2.COLOR_GRAY2RGB)\n",
    "    resized = cv2.resize(converted, (input_shape, input_shape), interpolation=cv2.INTER_CUBIC)\n",
    "    del converted\n",
    "    x_test_resized[idx] = resized\n",
    "    del resized\n",
    "    gc.collect()\n",
    "\n",
    "x_test_resized.shape"
   ]
  },
  {
   "cell_type": "code",
   "execution_count": null,
   "id": "ebbd58bf",
   "metadata": {
    "ExecuteTime": {
     "start_time": "2021-08-23T13:30:54.964Z"
    }
   },
   "outputs": [],
   "source": [
    "submission['digit'] = np.argmax(model.predict(x_test_resized), axis=1)\n",
    "submission.head()"
   ]
  },
  {
   "cell_type": "code",
   "execution_count": null,
   "id": "1a530535",
   "metadata": {
    "ExecuteTime": {
     "start_time": "2021-08-23T13:30:54.965Z"
    }
   },
   "outputs": [],
   "source": [
    "submission.to_csv('DenseNet121-64x64.csv', index=False)"
   ]
  }
 ],
 "metadata": {
  "kernelspec": {
   "display_name": "Python 3 (ipykernel)",
   "language": "python",
   "name": "python3"
  },
  "language_info": {
   "codemirror_mode": {
    "name": "ipython",
    "version": 3
   },
   "file_extension": ".py",
   "mimetype": "text/x-python",
   "name": "python",
   "nbconvert_exporter": "python",
   "pygments_lexer": "ipython3",
   "version": "3.7.0"
  },
  "varInspector": {
   "cols": {
    "lenName": 16,
    "lenType": 16,
    "lenVar": 40
   },
   "kernels_config": {
    "python": {
     "delete_cmd_postfix": "",
     "delete_cmd_prefix": "del ",
     "library": "var_list.py",
     "varRefreshCmd": "print(var_dic_list())"
    },
    "r": {
     "delete_cmd_postfix": ") ",
     "delete_cmd_prefix": "rm(",
     "library": "var_list.r",
     "varRefreshCmd": "cat(var_dic_list()) "
    }
   },
   "types_to_exclude": [
    "module",
    "function",
    "builtin_function_or_method",
    "instance",
    "_Feature"
   ],
   "window_display": false
  }
 },
 "nbformat": 4,
 "nbformat_minor": 5
}
