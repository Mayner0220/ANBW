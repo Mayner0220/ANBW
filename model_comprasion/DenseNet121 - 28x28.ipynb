{
 "cells": [
  {
   "cell_type": "markdown",
   "id": "7d047802",
   "metadata": {},
   "source": [
    "# DenseNet121 - 28x28"
   ]
  },
  {
   "cell_type": "markdown",
   "id": "0a5ddb5a",
   "metadata": {},
   "source": [
    "### Setup"
   ]
  },
  {
   "cell_type": "code",
   "execution_count": 1,
   "id": "d642e367",
   "metadata": {
    "ExecuteTime": {
     "end_time": "2021-08-22T10:55:02.734732Z",
     "start_time": "2021-08-22T10:55:02.722001Z"
    }
   },
   "outputs": [],
   "source": [
    "import os\n",
    "os.environ['TF_CPP_MIN_LOG_LEVEL'] = \"3\""
   ]
  },
  {
   "cell_type": "code",
   "execution_count": 2,
   "id": "73e98a6f",
   "metadata": {
    "ExecuteTime": {
     "end_time": "2021-08-22T10:55:05.901052Z",
     "start_time": "2021-08-22T10:55:02.735614Z"
    }
   },
   "outputs": [],
   "source": [
    "import gc\n",
    "import cv2\n",
    "import numpy as np\n",
    "import pandas as pd\n",
    "import tensorflow as tf\n",
    "import matplotlib.pyplot as plt\n",
    "%matplotlib inline\n",
    "\n",
    "from sklearn.model_selection import train_test_split"
   ]
  },
  {
   "cell_type": "code",
   "execution_count": 3,
   "id": "7eb6f734",
   "metadata": {
    "ExecuteTime": {
     "end_time": "2021-08-22T10:55:05.976049Z",
     "start_time": "2021-08-22T10:55:05.903050Z"
    }
   },
   "outputs": [
    {
     "name": "stdout",
     "output_type": "stream",
     "text": [
      "CUDA avilable: True\n"
     ]
    }
   ],
   "source": [
    "print(\"CUDA avilable:\",\n",
    "     True if tf.config.list_physical_devices(\"GPU\") else False)"
   ]
  },
  {
   "cell_type": "code",
   "execution_count": 4,
   "id": "c0cb5848",
   "metadata": {
    "ExecuteTime": {
     "end_time": "2021-08-22T10:55:05.991056Z",
     "start_time": "2021-08-22T10:55:05.977050Z"
    }
   },
   "outputs": [],
   "source": [
    "SEED = 1234\n",
    "np.random.seed(SEED)\n",
    "tf.random.set_seed(SEED)"
   ]
  },
  {
   "cell_type": "markdown",
   "id": "62127e9d",
   "metadata": {},
   "source": [
    "### Preprocessing"
   ]
  },
  {
   "cell_type": "code",
   "execution_count": 5,
   "id": "fdf61fc2",
   "metadata": {
    "ExecuteTime": {
     "end_time": "2021-08-22T10:55:07.327829Z",
     "start_time": "2021-08-22T10:55:05.992050Z"
    }
   },
   "outputs": [],
   "source": [
    "PATH = \"C:/Users/shj03/Desktop/git_files/ANBW/dataset\"\n",
    "train = pd.read_csv(f\"{PATH}/train.csv\")\n",
    "test = pd.read_csv(f\"{PATH}/test.csv\")\n",
    "submission = pd.read_csv(f\"{PATH}/submission.csv\")"
   ]
  },
  {
   "cell_type": "code",
   "execution_count": 13,
   "id": "7d12c22e",
   "metadata": {
    "ExecuteTime": {
     "end_time": "2021-08-22T11:08:00.577160Z",
     "start_time": "2021-08-22T11:08:00.495017Z"
    }
   },
   "outputs": [
    {
     "data": {
      "text/plain": [
       "(2048, 28, 28, 3)"
      ]
     },
     "execution_count": 13,
     "metadata": {},
     "output_type": "execute_result"
    }
   ],
   "source": [
    "x_train = train.drop([\"id\", \"digit\", \"letter\"], axis=1).values\n",
    "x_train = x_train.reshape(-1, 28, 28, 1)\n",
    "x_train = np.where((x_train<=20)&(x_train!=0) ,0.,x_train)\n",
    "x_train = x_train/255\n",
    "x_train = x_train.astype(\"float32\")\n",
    "converted_x_train = np.zeros([2048, 28, 28, 3], dtype=np.float32)\n",
    "\n",
    "for idx, img in enumerate(x_train):\n",
    "    converted = cv2.cvtColor(img, cv2.COLOR_GRAY2RGB)\n",
    "    converted_x_train[idx] = converted\n",
    "    del converted\n",
    "    gc.collect\n",
    "\n",
    "converted_x_train.shape"
   ]
  },
  {
   "cell_type": "code",
   "execution_count": 7,
   "id": "ba2b940e",
   "metadata": {
    "ExecuteTime": {
     "end_time": "2021-08-22T11:01:10.693262Z",
     "start_time": "2021-08-22T11:01:10.678264Z"
    }
   },
   "outputs": [
    {
     "data": {
      "text/plain": [
       "(2048, 10)"
      ]
     },
     "execution_count": 7,
     "metadata": {},
     "output_type": "execute_result"
    }
   ],
   "source": [
    "y = train[\"digit\"]\n",
    "y_train = np.zeros((len(y), len(y.unique())))\n",
    "\n",
    "for idx, digit in enumerate(y):\n",
    "    y_train[idx, digit] = 1\n",
    "\n",
    "y_train.shape"
   ]
  },
  {
   "cell_type": "markdown",
   "id": "b0f6b5c1",
   "metadata": {},
   "source": [
    "### Initialing model"
   ]
  },
  {
   "cell_type": "code",
   "execution_count": 10,
   "id": "d45d447a",
   "metadata": {
    "ExecuteTime": {
     "end_time": "2021-08-22T11:02:52.584146Z",
     "start_time": "2021-08-22T11:02:52.579135Z"
    }
   },
   "outputs": [],
   "source": [
    "from tensorflow.keras.callbacks import EarlyStopping"
   ]
  },
  {
   "cell_type": "code",
   "execution_count": 12,
   "id": "5aa7846c",
   "metadata": {
    "ExecuteTime": {
     "end_time": "2021-08-22T11:04:08.681104Z",
     "start_time": "2021-08-22T11:04:08.669594Z"
    }
   },
   "outputs": [],
   "source": [
    "BATCH = 32\n",
    "EPOCHS = 100\n",
    "CALLBACKS = [EarlyStopping(monitor=\"val_loss\", verbose=1, patience=20)]"
   ]
  },
  {
   "cell_type": "code",
   "execution_count": null,
   "id": "64dcc75f",
   "metadata": {},
   "outputs": [],
   "source": [
    "densenet = tf.keras.applications.densenet.DenseNet121(\n",
    "    weights=None,\n",
    "    input_shape=(28, 28, 3),\n",
    "    classes=10,\n",
    ")"
   ]
  }
 ],
 "metadata": {
  "kernelspec": {
   "display_name": "Python 3 (ipykernel)",
   "language": "python",
   "name": "python3"
  },
  "language_info": {
   "codemirror_mode": {
    "name": "ipython",
    "version": 3
   },
   "file_extension": ".py",
   "mimetype": "text/x-python",
   "name": "python",
   "nbconvert_exporter": "python",
   "pygments_lexer": "ipython3",
   "version": "3.7.0"
  },
  "varInspector": {
   "cols": {
    "lenName": 16,
    "lenType": 16,
    "lenVar": 40
   },
   "kernels_config": {
    "python": {
     "delete_cmd_postfix": "",
     "delete_cmd_prefix": "del ",
     "library": "var_list.py",
     "varRefreshCmd": "print(var_dic_list())"
    },
    "r": {
     "delete_cmd_postfix": ") ",
     "delete_cmd_prefix": "rm(",
     "library": "var_list.r",
     "varRefreshCmd": "cat(var_dic_list()) "
    }
   },
   "types_to_exclude": [
    "module",
    "function",
    "builtin_function_or_method",
    "instance",
    "_Feature"
   ],
   "window_display": false
  }
 },
 "nbformat": 4,
 "nbformat_minor": 5
}
