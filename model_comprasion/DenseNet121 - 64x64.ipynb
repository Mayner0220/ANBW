{
 "cells": [
  {
   "cell_type": "markdown",
   "id": "39e8c35e",
   "metadata": {},
   "source": [
    "# DenseNet121 - 64x64"
   ]
  },
  {
   "cell_type": "markdown",
   "id": "da4fb374",
   "metadata": {},
   "source": [
    "### Setup"
   ]
  },
  {
   "cell_type": "code",
   "execution_count": 1,
   "id": "fc8bb794",
   "metadata": {
    "ExecuteTime": {
     "end_time": "2021-08-23T13:30:54.980543Z",
     "start_time": "2021-08-23T13:30:54.967540Z"
    }
   },
   "outputs": [],
   "source": [
    "import os\n",
    "os.environ['TF_CPP_MIN_LOG_LEVEL'] = \"3\""
   ]
  },
  {
   "cell_type": "code",
   "execution_count": 2,
   "id": "ac96ac5c",
   "metadata": {
    "ExecuteTime": {
     "end_time": "2021-08-23T13:30:58.611729Z",
     "start_time": "2021-08-23T13:30:54.982544Z"
    }
   },
   "outputs": [],
   "source": [
    "import gc\n",
    "import cv2\n",
    "import numpy as np\n",
    "import pandas as pd\n",
    "import tensorflow as tf\n",
    "import matplotlib.pyplot as plt\n",
    "%matplotlib inline\n",
    "\n",
    "from sklearn.model_selection import train_test_split"
   ]
  },
  {
   "cell_type": "code",
   "execution_count": 3,
   "id": "0c95c81b",
   "metadata": {
    "ExecuteTime": {
     "end_time": "2021-08-23T13:30:58.686666Z",
     "start_time": "2021-08-23T13:30:58.613666Z"
    }
   },
   "outputs": [
    {
     "name": "stdout",
     "output_type": "stream",
     "text": [
      "CUDA avilable: True\n"
     ]
    }
   ],
   "source": [
    "print(\"CUDA avilable:\",\n",
    "     True if tf.config.list_physical_devices(\"GPU\") else False)"
   ]
  },
  {
   "cell_type": "code",
   "execution_count": 4,
   "id": "36de8a48",
   "metadata": {
    "ExecuteTime": {
     "end_time": "2021-08-23T13:30:58.701741Z",
     "start_time": "2021-08-23T13:30:58.688666Z"
    }
   },
   "outputs": [],
   "source": [
    "SEED = 1234\n",
    "np.random.seed(SEED)\n",
    "tf.random.set_seed(SEED)"
   ]
  },
  {
   "cell_type": "code",
   "execution_count": 5,
   "id": "ced88f53",
   "metadata": {
    "ExecuteTime": {
     "end_time": "2021-08-23T13:30:58.716741Z",
     "start_time": "2021-08-23T13:30:58.702667Z"
    }
   },
   "outputs": [],
   "source": [
    "input_shape = 64"
   ]
  },
  {
   "cell_type": "markdown",
   "id": "c3fbe13b",
   "metadata": {},
   "source": [
    "### Preprocessing"
   ]
  },
  {
   "cell_type": "code",
   "execution_count": 6,
   "id": "b618a0b8",
   "metadata": {
    "ExecuteTime": {
     "end_time": "2021-08-23T13:31:00.007249Z",
     "start_time": "2021-08-23T13:30:58.717668Z"
    }
   },
   "outputs": [],
   "source": [
    "PATH = \"C:/Users/shj03/Desktop/git_files/ANBW/dataset\"\n",
    "train = pd.read_csv(f\"{PATH}/train.csv\")\n",
    "test = pd.read_csv(f\"{PATH}/test.csv\")\n",
    "submission = pd.read_csv(f\"{PATH}/submission.csv\")"
   ]
  },
  {
   "cell_type": "code",
   "execution_count": 7,
   "id": "6d5e3fe9",
   "metadata": {
    "ExecuteTime": {
     "end_time": "2021-08-23T13:32:41.245348Z",
     "start_time": "2021-08-23T13:31:00.009915Z"
    }
   },
   "outputs": [
    {
     "data": {
      "text/plain": [
       "(2048, 64, 64, 3)"
      ]
     },
     "execution_count": 7,
     "metadata": {},
     "output_type": "execute_result"
    }
   ],
   "source": [
    "x_train = train.drop([\"id\", \"digit\", \"letter\"], axis=1).values\n",
    "x_train = x_train.reshape(-1, 28, 28, 1)\n",
    "x_train = np.where((x_train<=20)&(x_train!=0) ,0.,x_train)\n",
    "x_train = x_train/255\n",
    "x_train = x_train.astype(\"float32\")\n",
    "x_train_resized = np.zeros([2048, input_shape, input_shape, 3], dtype=np.float32)\n",
    "\n",
    "for idx, img in enumerate(x_train):\n",
    "    converted = cv2.cvtColor(img, cv2.COLOR_GRAY2RGB)\n",
    "    resized = cv2.resize(converted, (input_shape, input_shape), interpolation=cv2.INTER_CUBIC)\n",
    "    del converted\n",
    "    x_train_resized[idx] = resized\n",
    "    del resized\n",
    "    gc.collect()\n",
    "\n",
    "x_train_resized.shape"
   ]
  },
  {
   "cell_type": "code",
   "execution_count": 8,
   "id": "d4371d02",
   "metadata": {
    "ExecuteTime": {
     "end_time": "2021-08-23T13:32:41.260384Z",
     "start_time": "2021-08-23T13:32:41.248351Z"
    }
   },
   "outputs": [
    {
     "data": {
      "text/plain": [
       "(2048, 10)"
      ]
     },
     "execution_count": 8,
     "metadata": {},
     "output_type": "execute_result"
    }
   ],
   "source": [
    "y = train[\"digit\"]\n",
    "y_train = np.zeros((len(y), len(y.unique())))\n",
    "\n",
    "for idx, digit in enumerate(y):\n",
    "    y_train[idx, digit] = 1\n",
    "\n",
    "y_train.shape"
   ]
  },
  {
   "cell_type": "code",
   "execution_count": 9,
   "id": "45143747",
   "metadata": {
    "ExecuteTime": {
     "end_time": "2021-08-23T13:32:41.305648Z",
     "start_time": "2021-08-23T13:32:41.263349Z"
    }
   },
   "outputs": [],
   "source": [
    "x_train, x_valid, y_train, y_valid = train_test_split(x_train_resized, y_train, test_size=0.2, random_state=SEED, shuffle=True)"
   ]
  },
  {
   "cell_type": "markdown",
   "id": "c97219b7",
   "metadata": {},
   "source": [
    "### Initialing model"
   ]
  },
  {
   "cell_type": "code",
   "execution_count": 10,
   "id": "ef368ba5",
   "metadata": {
    "ExecuteTime": {
     "end_time": "2021-08-23T13:32:41.321398Z",
     "start_time": "2021-08-23T13:32:41.307355Z"
    }
   },
   "outputs": [],
   "source": [
    "from tensorflow.keras.callbacks import EarlyStopping"
   ]
  },
  {
   "cell_type": "code",
   "execution_count": 11,
   "id": "28dda411",
   "metadata": {
    "ExecuteTime": {
     "end_time": "2021-08-23T13:32:41.336448Z",
     "start_time": "2021-08-23T13:32:41.322413Z"
    }
   },
   "outputs": [],
   "source": [
    "BATCH = 32\n",
    "EPOCHS = 100\n",
    "CALLBACKS = [EarlyStopping(monitor=\"val_loss\", verbose=1, patience=20)]"
   ]
  },
  {
   "cell_type": "code",
   "execution_count": 12,
   "id": "557ded4e",
   "metadata": {
    "ExecuteTime": {
     "end_time": "2021-08-23T13:32:44.490149Z",
     "start_time": "2021-08-23T13:32:41.338411Z"
    }
   },
   "outputs": [],
   "source": [
    "densenet = tf.keras.applications.densenet.DenseNet121(\n",
    "    weights=None,\n",
    "    input_shape=(64, 64, 3),\n",
    "    classes=10,\n",
    ")"
   ]
  },
  {
   "cell_type": "code",
   "execution_count": 13,
   "id": "2c0b4be0",
   "metadata": {
    "ExecuteTime": {
     "end_time": "2021-08-23T13:32:45.855142Z",
     "start_time": "2021-08-23T13:32:44.491115Z"
    }
   },
   "outputs": [],
   "source": [
    "model = tf.keras.Sequential()\n",
    "model.add(densenet)\n",
    "\n",
    "model.compile(loss=\"categorical_crossentropy\",\n",
    "             optimizer=\"Adam\",\n",
    "             metrics=[\"accuracy\"])"
   ]
  },
  {
   "cell_type": "code",
   "execution_count": 14,
   "id": "665a9eb1",
   "metadata": {
    "ExecuteTime": {
     "end_time": "2021-08-23T13:32:45.885811Z",
     "start_time": "2021-08-23T13:32:45.856845Z"
    }
   },
   "outputs": [
    {
     "name": "stdout",
     "output_type": "stream",
     "text": [
      "Model: \"sequential\"\n",
      "_________________________________________________________________\n",
      "Layer (type)                 Output Shape              Param #   \n",
      "=================================================================\n",
      "densenet121 (Functional)     (None, 10)                7047754   \n",
      "=================================================================\n",
      "Total params: 7,047,754\n",
      "Trainable params: 6,964,106\n",
      "Non-trainable params: 83,648\n",
      "_________________________________________________________________\n"
     ]
    }
   ],
   "source": [
    "model.summary()"
   ]
  },
  {
   "cell_type": "markdown",
   "id": "00c007b2",
   "metadata": {},
   "source": [
    "### Train model"
   ]
  },
  {
   "cell_type": "code",
   "execution_count": null,
   "id": "f3e8f385",
   "metadata": {
    "ExecuteTime": {
     "start_time": "2021-08-23T13:30:54.962Z"
    }
   },
   "outputs": [
    {
     "name": "stdout",
     "output_type": "stream",
     "text": [
      "Epoch 1/100\n",
      "52/52 [==============================] - 11s 203ms/step - loss: 1.8203 - accuracy: 0.3455 - val_loss: 2.6572 - val_accuracy: 0.0854\n",
      "Epoch 2/100\n",
      "52/52 [==============================] - 5s 94ms/step - loss: 1.1709 - accuracy: 0.6099 - val_loss: 3.0597 - val_accuracy: 0.0854\n",
      "Epoch 3/100\n",
      "52/52 [==============================] - 5s 92ms/step - loss: 0.8188 - accuracy: 0.7247 - val_loss: 3.2633 - val_accuracy: 0.0829\n",
      "Epoch 4/100\n",
      "52/52 [==============================] - 5s 97ms/step - loss: 0.6204 - accuracy: 0.7821 - val_loss: 5.8740 - val_accuracy: 0.0854\n",
      "Epoch 5/100\n",
      "52/52 [==============================] - 5s 94ms/step - loss: 0.5212 - accuracy: 0.8168 - val_loss: 3.1035 - val_accuracy: 0.1171\n",
      "Epoch 6/100\n",
      "52/52 [==============================] - 5s 93ms/step - loss: 0.3625 - accuracy: 0.8767 - val_loss: 2.8065 - val_accuracy: 0.1512\n",
      "Epoch 7/100\n",
      "52/52 [==============================] - 5s 93ms/step - loss: 0.3795 - accuracy: 0.8657 - val_loss: 2.3928 - val_accuracy: 0.3610\n",
      "Epoch 8/100\n",
      "52/52 [==============================] - 5s 94ms/step - loss: 0.2287 - accuracy: 0.9212 - val_loss: 2.4323 - val_accuracy: 0.3878\n",
      "Epoch 9/100\n",
      "52/52 [==============================] - 5s 96ms/step - loss: 0.2287 - accuracy: 0.9158 - val_loss: 1.6113 - val_accuracy: 0.6049\n",
      "Epoch 10/100\n",
      "52/52 [==============================] - 5s 94ms/step - loss: 0.1743 - accuracy: 0.9469 - val_loss: 1.5980 - val_accuracy: 0.6000\n",
      "Epoch 11/100\n",
      "52/52 [==============================] - 5s 94ms/step - loss: 0.0811 - accuracy: 0.9762 - val_loss: 1.2713 - val_accuracy: 0.6415\n",
      "Epoch 12/100\n",
      "52/52 [==============================] - 5s 92ms/step - loss: 0.0919 - accuracy: 0.9683 - val_loss: 1.2321 - val_accuracy: 0.7244\n",
      "Epoch 13/100\n",
      "52/52 [==============================] - 5s 93ms/step - loss: 0.1249 - accuracy: 0.9603 - val_loss: 1.9097 - val_accuracy: 0.5756\n",
      "Epoch 14/100\n",
      "52/52 [==============================] - 5s 92ms/step - loss: 0.2253 - accuracy: 0.9225 - val_loss: 2.2027 - val_accuracy: 0.5683\n",
      "Epoch 15/100\n",
      "52/52 [==============================] - 5s 93ms/step - loss: 0.1081 - accuracy: 0.9640 - val_loss: 1.1616 - val_accuracy: 0.7317\n",
      "Epoch 16/100\n",
      "52/52 [==============================] - 5s 94ms/step - loss: 0.0757 - accuracy: 0.9713 - val_loss: 1.2220 - val_accuracy: 0.7146\n",
      "Epoch 17/100\n",
      "52/52 [==============================] - 5s 92ms/step - loss: 0.0775 - accuracy: 0.9737 - val_loss: 1.7661 - val_accuracy: 0.6683\n",
      "Epoch 18/100\n",
      "52/52 [==============================] - 5s 96ms/step - loss: 0.2367 - accuracy: 0.9249 - val_loss: 2.2651 - val_accuracy: 0.5561\n",
      "Epoch 19/100\n",
      "52/52 [==============================] - 5s 94ms/step - loss: 0.0885 - accuracy: 0.9689 - val_loss: 1.2050 - val_accuracy: 0.7244\n",
      "Epoch 20/100\n",
      "52/52 [==============================] - 5s 94ms/step - loss: 0.0423 - accuracy: 0.9853 - val_loss: 1.2175 - val_accuracy: 0.7122\n",
      "Epoch 21/100\n",
      "52/52 [==============================] - 5s 93ms/step - loss: 0.0234 - accuracy: 0.9927 - val_loss: 1.0536 - val_accuracy: 0.7707\n",
      "Epoch 22/100\n",
      "52/52 [==============================] - 5s 94ms/step - loss: 0.0119 - accuracy: 0.9976 - val_loss: 1.1794 - val_accuracy: 0.7634\n",
      "Epoch 23/100\n",
      "52/52 [==============================] - 5s 93ms/step - loss: 0.0101 - accuracy: 0.9976 - val_loss: 1.0604 - val_accuracy: 0.7561\n",
      "Epoch 24/100\n",
      "52/52 [==============================] - 5s 94ms/step - loss: 0.0263 - accuracy: 0.9921 - val_loss: 1.0271 - val_accuracy: 0.7805\n",
      "Epoch 25/100\n",
      "52/52 [==============================] - 5s 92ms/step - loss: 0.0910 - accuracy: 0.9701 - val_loss: 1.4185 - val_accuracy: 0.6927\n",
      "Epoch 26/100\n",
      "41/52 [======================>.......] - ETA: 0s - loss: 0.1808 - accuracy: 0.9489"
     ]
    }
   ],
   "source": [
    "history = model.fit(x_train, y_train, batch_size=BATCH, epochs=EPOCHS, callbacks=CALLBACKS, validation_data=(x_valid, y_valid))"
   ]
  },
  {
   "cell_type": "markdown",
   "id": "02b73084",
   "metadata": {},
   "source": [
    "### Predict"
   ]
  },
  {
   "cell_type": "code",
   "execution_count": null,
   "id": "69be0797",
   "metadata": {
    "ExecuteTime": {
     "start_time": "2021-08-23T13:30:54.963Z"
    }
   },
   "outputs": [],
   "source": [
    "x_test = test.drop([\"id\", \"letter\"], axis=1).values\n",
    "x_test = x_test.reshape(-1, 28, 28, 1)\n",
    "x_test = np.where((x_test<=20)&(x_test!=0), 0., x_test)\n",
    "x_test = x_test/255\n",
    "x_test = x_test.astype(\"float32\")\n",
    "x_test_resized = np.zeros([20480, input_shape, input_shape, 3], dtype=np.float32)\n",
    "\n",
    "for idx, img in enumerate(x_test):\n",
    "    converted = cv2.cvtColor(img, cv2.COLOR_GRAY2RGB)\n",
    "    resized = cv2.resize(converted, (input_shape, input_shape), interpolation=cv2.INTER_CUBIC)\n",
    "    del converted\n",
    "    x_test_resized[idx] = resized\n",
    "    del resized\n",
    "    gc.collect()\n",
    "\n",
    "x_test_resized.shape"
   ]
  },
  {
   "cell_type": "code",
   "execution_count": null,
   "id": "20e4ab24",
   "metadata": {
    "ExecuteTime": {
     "start_time": "2021-08-23T13:30:54.964Z"
    }
   },
   "outputs": [],
   "source": [
    "submission['digit'] = np.argmax(model.predict(x_test_resized), axis=1)\n",
    "submission.head()"
   ]
  },
  {
   "cell_type": "code",
   "execution_count": null,
   "id": "9132f1ae",
   "metadata": {
    "ExecuteTime": {
     "start_time": "2021-08-23T13:30:54.965Z"
    }
   },
   "outputs": [],
   "source": [
    "submission.to_csv('DenseNet121-64x64.csv', index=False)"
   ]
  }
 ],
 "metadata": {
  "kernelspec": {
   "display_name": "Python 3 (ipykernel)",
   "language": "python",
   "name": "python3"
  },
  "language_info": {
   "codemirror_mode": {
    "name": "ipython",
    "version": 3
   },
   "file_extension": ".py",
   "mimetype": "text/x-python",
   "name": "python",
   "nbconvert_exporter": "python",
   "pygments_lexer": "ipython3",
   "version": "3.7.0"
  },
  "varInspector": {
   "cols": {
    "lenName": 16,
    "lenType": 16,
    "lenVar": 40
   },
   "kernels_config": {
    "python": {
     "delete_cmd_postfix": "",
     "delete_cmd_prefix": "del ",
     "library": "var_list.py",
     "varRefreshCmd": "print(var_dic_list())"
    },
    "r": {
     "delete_cmd_postfix": ") ",
     "delete_cmd_prefix": "rm(",
     "library": "var_list.r",
     "varRefreshCmd": "cat(var_dic_list()) "
    }
   },
   "types_to_exclude": [
    "module",
    "function",
    "builtin_function_or_method",
    "instance",
    "_Feature"
   ],
   "window_display": false
  }
 },
 "nbformat": 4,
 "nbformat_minor": 5
}
