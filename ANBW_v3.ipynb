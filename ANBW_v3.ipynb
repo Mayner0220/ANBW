{
 "cells": [
  {
   "cell_type": "markdown",
   "metadata": {},
   "source": [
    "# ANBW_v3\n",
    "- To do\n",
    "    - Improve model performance\n",
    "    - Overfitting Troubleshooting\n",
    "    - Reusable Pipeline Configuration\n",
    "    - Apply appropriate garbage collecting"
   ]
  },
  {
   "cell_type": "markdown",
   "metadata": {},
   "source": [
    "## Setup"
   ]
  },
  {
   "cell_type": "code",
   "execution_count": 1,
   "metadata": {
    "ExecuteTime": {
     "end_time": "2021-07-02T10:37:28.565134Z",
     "start_time": "2021-07-02T10:37:28.555131Z"
    }
   },
   "outputs": [],
   "source": [
    "import os\n",
    "os.environ['TF_CPP_MIN_LOG_LEVEL'] = \"3\""
   ]
  },
  {
   "cell_type": "code",
   "execution_count": 2,
   "metadata": {
    "ExecuteTime": {
     "end_time": "2021-07-02T10:37:32.042251Z",
     "start_time": "2021-07-02T10:37:28.566130Z"
    }
   },
   "outputs": [],
   "source": [
    "import gc\n",
    "import cv2\n",
    "import numpy as np\n",
    "import pandas as pd\n",
    "import tensorflow as tf\n",
    "import matplotlib.pyplot as plt\n",
    "%matplotlib inline\n",
    "\n",
    "from sklearn.model_selection import train_test_split"
   ]
  },
  {
   "cell_type": "code",
   "execution_count": 3,
   "metadata": {
    "ExecuteTime": {
     "end_time": "2021-07-02T10:37:32.502743Z",
     "start_time": "2021-07-02T10:37:32.043185Z"
    }
   },
   "outputs": [
    {
     "name": "stdout",
     "output_type": "stream",
     "text": [
      "CUDA avilable: True\n"
     ]
    }
   ],
   "source": [
    "print(\"CUDA avilable:\",\n",
    "     True if tf.config.list_physical_devices(\"GPU\") else False)"
   ]
  },
  {
   "cell_type": "code",
   "execution_count": 4,
   "metadata": {
    "ExecuteTime": {
     "end_time": "2021-07-02T10:37:32.517894Z",
     "start_time": "2021-07-02T10:37:32.503743Z"
    }
   },
   "outputs": [],
   "source": [
    "SEED = 1234\n",
    "np.random.seed(SEED)\n",
    "tf.random.set_seed(SEED)"
   ]
  },
  {
   "cell_type": "markdown",
   "metadata": {},
   "source": [
    "## Load data"
   ]
  },
  {
   "cell_type": "code",
   "execution_count": null,
   "metadata": {
    "ExecuteTime": {
     "start_time": "2021-07-02T10:37:28.559Z"
    }
   },
   "outputs": [],
   "source": [
    "train = pd.read_csv(\"./data/train.csv\")\n",
    "test = pd.read_csv(\"./data/test.csv\")\n",
    "# submission = pd.read_csv(\"./data/submission.csv\")"
   ]
  },
  {
   "cell_type": "code",
   "execution_count": null,
   "metadata": {
    "ExecuteTime": {
     "start_time": "2021-07-02T10:37:28.561Z"
    }
   },
   "outputs": [],
   "source": [
    "img_save_path = \"./img/v3/\"\n",
    "\n",
    "if not(os.path.isdir(img_save_path)):\n",
    "    os.makedirs(os.path.join(img_save_path))\n",
    "    print(\"Directory Created: %s\" % img_save_path)\n",
    "else:\n",
    "    print(\"Directory already exists: %s\" % img_save_path)"
   ]
  },
  {
   "cell_type": "markdown",
   "metadata": {},
   "source": [
    "## EDA"
   ]
  },
  {
   "cell_type": "markdown",
   "metadata": {},
   "source": [
    "### Plot saving function"
   ]
  },
  {
   "cell_type": "code",
   "execution_count": null,
   "metadata": {
    "ExecuteTime": {
     "start_time": "2021-07-02T10:37:28.562Z"
    }
   },
   "outputs": [],
   "source": [
    "def save_plot(img_path: str) -> None:\n",
    "    if not(os.path.isfile(img_path)):\n",
    "        plt.savefig(img_path, facecolor=\"#eeeeee\", bbox_inches=\"tight\")\n",
    "        print(\"successfully image saved: %s\" % img_path)\n",
    "    else:\n",
    "        print(\"Directory already exists: %s\" % img_path)"
   ]
  },
  {
   "cell_type": "markdown",
   "metadata": {},
   "source": [
    "### Train data"
   ]
  },
  {
   "cell_type": "code",
   "execution_count": null,
   "metadata": {
    "ExecuteTime": {
     "start_time": "2021-07-02T10:37:28.564Z"
    }
   },
   "outputs": [],
   "source": [
    "train.set_index(\"id\").head()"
   ]
  },
  {
   "cell_type": "code",
   "execution_count": null,
   "metadata": {
    "ExecuteTime": {
     "start_time": "2021-07-02T10:37:28.566Z"
    }
   },
   "outputs": [],
   "source": [
    "train_digit_cnt = train[\"digit\"].value_counts(normalize=False, sort=False).values\n",
    "train_digit_label = sorted(train[\"digit\"].unique())"
   ]
  },
  {
   "cell_type": "code",
   "execution_count": null,
   "metadata": {
    "ExecuteTime": {
     "start_time": "2021-07-02T10:37:28.567Z"
    }
   },
   "outputs": [],
   "source": [
    "plt.bar(train_digit_label, train_digit_cnt)\n",
    "plt.title(\"Train data's digit distribution\")\n",
    "plt.xticks(train_digit_label)\n",
    "plt.xlabel(\"digit\")\n",
    "plt.ylabel(\"count\")\n",
    "\n",
    "img_path = img_save_path + \"train_digit_distribution.png\"\n",
    "save_plot(img_path)"
   ]
  },
  {
   "cell_type": "code",
   "execution_count": null,
   "metadata": {
    "ExecuteTime": {
     "start_time": "2021-07-02T10:37:28.569Z"
    }
   },
   "outputs": [],
   "source": [
    "train.shape"
   ]
  },
  {
   "cell_type": "markdown",
   "metadata": {},
   "source": [
    "### Test data"
   ]
  },
  {
   "cell_type": "code",
   "execution_count": null,
   "metadata": {
    "ExecuteTime": {
     "start_time": "2021-07-02T10:37:28.571Z"
    }
   },
   "outputs": [],
   "source": [
    "test.set_index(\"id\").head()"
   ]
  },
  {
   "cell_type": "code",
   "execution_count": null,
   "metadata": {
    "ExecuteTime": {
     "start_time": "2021-07-02T10:37:28.573Z"
    }
   },
   "outputs": [],
   "source": [
    "test.shape"
   ]
  },
  {
   "cell_type": "markdown",
   "metadata": {},
   "source": [
    "### Data visualization"
   ]
  },
  {
   "cell_type": "code",
   "execution_count": null,
   "metadata": {
    "ExecuteTime": {
     "start_time": "2021-07-02T10:37:28.575Z"
    }
   },
   "outputs": [],
   "source": [
    "plt.figure(figsize=(10, 10))\n",
    "for idx in range(9):\n",
    "    ax = plt.subplot(3, 3, idx+1)\n",
    "    img = train.loc[idx, \"0\": ].values.reshape(28, 28).astype(int)\n",
    "    plt.imshow(img)\n",
    "    plt.title(\"Digit: %s, Letter: %s\" % (train.loc[idx, \"digit\"], train.loc[idx, \"letter\"]))\n",
    "    plt.axis(\"off\")\n",
    "\n",
    "img_path = img_save_path + \"train_visualize.png\"\n",
    "save_plot(img_path)"
   ]
  },
  {
   "cell_type": "code",
   "execution_count": null,
   "metadata": {
    "ExecuteTime": {
     "start_time": "2021-07-02T10:37:28.577Z"
    }
   },
   "outputs": [],
   "source": [
    "del ax, idx, img, img_path, img_save_path, train, test, train_digit_cnt, train_digit_label\n",
    "gc.collect()"
   ]
  },
  {
   "cell_type": "markdown",
   "metadata": {},
   "source": [
    "## Data preprocessing"
   ]
  },
  {
   "cell_type": "code",
   "execution_count": null,
   "metadata": {
    "ExecuteTime": {
     "start_time": "2021-07-02T10:37:28.579Z"
    }
   },
   "outputs": [],
   "source": [
    "def train_generator(path: str) -> (tf.float32, tf.int64):\n",
    "    \"\"\"\n",
    "    Train Image data preproccesing and generating\n",
    "    1. Read CSV file with Pandas\n",
    "    2. Slice the feature data(pixels) and label(digit)\n",
    "    3. Convert Color from grayscale to RGB\n",
    "    4. Resize image from (28, 28) to (300, 300)\n",
    "    5. Convert labels to one hot encoding array and return with preprocessed image\n",
    "    \"\"\"\n",
    "    raw_data = pd.read_csv(path)\n",
    "    features = raw_data.loc[:, \"0\":].values\n",
    "    features = features.reshape(-1, 28, 28, 1)\n",
    "    features = np.where((features<=20)&(features!=0), 0., features)\n",
    "    features = features / 255\n",
    "    features = features.astype(\"float32\")\n",
    "    labels = raw_data[\"digit\"]\n",
    "    \n",
    "    for feat, label in zip(features, labels):\n",
    "        cvt_feat = cv2.cvtColor(feat, cv2.COLOR_GRAY2RGB)\n",
    "        resized_feat = cv2.resize(cvt_feat, (300, 300), interpolation=cv2.INTER_CUBIC)\n",
    "        label = tf.keras.utils.to_categorical(label, 10)\n",
    "        \n",
    "        yield(resized_feat, label)"
   ]
  },
  {
   "cell_type": "code",
   "execution_count": null,
   "metadata": {
    "ExecuteTime": {
     "start_time": "2021-07-02T10:37:28.581Z"
    }
   },
   "outputs": [],
   "source": [
    "def test_generator(path: str) -> (tf.float32):\n",
    "    \"\"\"\n",
    "    Test Image data preproccesing and generating\n",
    "    1. Read CSV file with Pandas\n",
    "    2. Slice the feature data(pixels)\n",
    "    3. Convert Color from grayscale to RGB\n",
    "    4. Resize image from (28, 28) to (300, 300)\n",
    "    5. Return preprocessed image\n",
    "    \"\"\"\n",
    "    raw_data = pd.read_csv(path)\n",
    "    features = raw_data.loc[:, \"0\":].values\n",
    "    features = features.reshape(-1, 28, 28, 1)\n",
    "    features = np.where((features<=20)&(features!=0), 0., features)\n",
    "    features = features / 255\n",
    "    features = features.astype(\"float32\")\n",
    "    \n",
    "    for feat, label in zip(features, labels):\n",
    "        cvt_feat = cv2.cvtColor(feat, cv2.COLOR_GRAY2RGB)\n",
    "        resized_feat = cv2.resize(cvt_feat, (300, 300), interpolation=cv2.INTER_CUBIC)\n",
    "        \n",
    "        yield(resized_feat)"
   ]
  },
  {
   "cell_type": "code",
   "execution_count": null,
   "metadata": {
    "ExecuteTime": {
     "start_time": "2021-07-02T10:37:28.582Z"
    }
   },
   "outputs": [],
   "source": [
    "train_dataset = tf.data.Dataset.from_generator(train_generator, (tf.float32, tf.int64), ((300,300, 3), (10)), args=(\"./data/train.csv\"))\n",
    "test_dataset = tf.data.Dataset.from_generator(test_generator, tf.float32, (300,300, 3), args=(\"./data/test.csv\"))"
   ]
  },
  {
   "cell_type": "code",
   "execution_count": null,
   "metadata": {},
   "outputs": [],
   "source": []
  }
 ],
 "metadata": {
  "hide_input": false,
  "kernelspec": {
   "display_name": "Python 3",
   "language": "python",
   "name": "python3"
  },
  "language_info": {
   "codemirror_mode": {
    "name": "ipython",
    "version": 3
   },
   "file_extension": ".py",
   "mimetype": "text/x-python",
   "name": "python",
   "nbconvert_exporter": "python",
   "pygments_lexer": "ipython3",
   "version": "3.6.10"
  },
  "toc": {
   "base_numbering": 1,
   "nav_menu": {},
   "number_sections": true,
   "sideBar": true,
   "skip_h1_title": false,
   "title_cell": "Table of Contents",
   "title_sidebar": "Contents",
   "toc_cell": false,
   "toc_position": {},
   "toc_section_display": true,
   "toc_window_display": false
  },
  "varInspector": {
   "cols": {
    "lenName": 16,
    "lenType": 16,
    "lenVar": 40
   },
   "kernels_config": {
    "python": {
     "delete_cmd_postfix": "",
     "delete_cmd_prefix": "del ",
     "library": "var_list.py",
     "varRefreshCmd": "print(var_dic_list())"
    },
    "r": {
     "delete_cmd_postfix": ") ",
     "delete_cmd_prefix": "rm(",
     "library": "var_list.r",
     "varRefreshCmd": "cat(var_dic_list()) "
    }
   },
   "oldHeight": 280,
   "position": {
    "height": "398px",
    "left": "1544px",
    "right": "20px",
    "top": "115px",
    "width": "350px"
   },
   "types_to_exclude": [
    "module",
    "function",
    "builtin_function_or_method",
    "instance",
    "_Feature"
   ],
   "varInspector_section_display": "block",
   "window_display": true
  }
 },
 "nbformat": 4,
 "nbformat_minor": 4
}
